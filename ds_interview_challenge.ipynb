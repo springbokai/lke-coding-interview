{
 "cells": [
  {
   "cell_type": "markdown",
   "id": "44c98d7a",
   "metadata": {},
   "source": [
    "# Legal Software Engineering Challenge\n"
   ]
  },
  {
   "cell_type": "markdown",
   "id": "63d03ff5",
   "metadata": {},
   "source": [
    "## 1. Mock Data"
   ]
  },
  {
   "cell_type": "code",
   "execution_count": null,
   "id": "88044e51",
   "metadata": {},
   "outputs": [],
   "source": [
    "# We'll create a sample dataset of legal contract clauses\n",
    "# In a real scenario, you might load this from a file or API\n",
    "\n",
    "legal_clauses = [\n",
    "    {\n",
    "        \"id\": \"c001\",\n",
    "        \"contract_id\": \"con123\",\n",
    "        \"clause_type\": \"confidentiality\",\n",
    "        \"text\": \"Each party shall maintain the confidentiality of all Confidential Information disclosed to it by the other party and shall not release, disclose or divulge any such Confidential Information without the prior written consent of the other party. The receiving party shall use the same degree of care to prevent disclosure of such Confidential Information as it uses with respect to its own confidential information, but in no event less than reasonable care.\",\n",
    "        \"effective_date\": \"2023-06-15\",\n",
    "        \"expiration_date\": \"2026-06-15\"\n",
    "    },\n",
    "    {\n",
    "        \"id\": \"c002\",\n",
    "        \"contract_id\": \"con123\",\n",
    "        \"clause_type\": \"termination\",\n",
    "        \"text\": \"This Agreement may be terminated by either Party upon thirty (30) days written notice to the other Party. In the event of termination, all obligations of confidentiality and non-use shall survive for a period of five (5) years from the date of termination.\",\n",
    "        \"effective_date\": \"2023-06-15\",\n",
    "        \"expiration_date\": \"2026-06-15\"\n",
    "    },\n",
    "    {\n",
    "        \"id\": \"c003\",\n",
    "        \"contract_id\": \"con456\",\n",
    "        \"clause_type\": \"governing_law\",\n",
    "        \"text\": \"This Agreement shall be governed by and construed in accordance with the laws of the State of Delaware, without giving effect to any choice of law or conflict of law provisions. The Parties consent to the exclusive jurisdiction of the federal and state courts located in Delaware for any legal proceedings arising out of or relating to this Agreement.\",\n",
    "        \"effective_date\": \"2023-08-01\",\n",
    "        \"expiration_date\": \"2028-08-01\"\n",
    "    },\n",
    "    {\n",
    "        \"id\": \"c004\",\n",
    "        \"contract_id\": \"con456\",\n",
    "        \"clause_type\": \"payment\",\n",
    "        \"text\": \"Payment shall be made within thirty (30) days of receipt of invoice. All payments shall be made in US Dollars. Late payments shall incur interest at the rate of 1.5% per month or the maximum rate permitted by law, whichever is less.\",\n",
    "        \"effective_date\": \"2023-08-01\",\n",
    "        \"expiration_date\": \"2028-08-01\"\n",
    "    },\n",
    "]"
   ]
  },
  {
   "cell_type": "markdown",
   "id": "9b1c0c05",
   "metadata": {},
   "source": [
    "### Task 1: Create Models for Legal Entities\n",
    "\n",
    "First, create the following models (e.g. with pydantic):\n",
    "\n",
    "1. A `ClauseType` enum with types like \"confidentiality\", \"termination\", etc.\n",
    "2. A `Clause`:\n",
    "   - id\n",
    "   - contract_id\n",
    "   - clause_type \n",
    "   - text\n",
    "   - effective_date\n",
    "   - expiration_date\n",
    "\n",
    "3. A `Contract`:\n",
    "   - id\n",
    "   - title\n",
    "   - parties\n",
    "   - effective_date\n",
    "   - clauses\n",
    "\n",
    "Second, write a function to create the models out of the mock data above.\n",
    "\n",
    "Bonus: Add a method in Contract that allows a clause\n",
    "\n",
    "Bonus 2: Add validation to ensure that `expiration_date` is after `effective_date`.\n",
    "\n"
   ]
  },
  {
   "cell_type": "code",
   "execution_count": null,
   "id": "207a1796",
   "metadata": {},
   "outputs": [],
   "source": [
    "# YOUR CODE HERE\n"
   ]
  },
  {
   "cell_type": "markdown",
   "id": "7ab3c009",
   "metadata": {},
   "source": [
    "### Task 2: Create an Information Extractor\n",
    "\n",
    "Create a simple `InformationExtractor` class that takes in a string and:\n",
    "\n",
    "1. Assumes a set of possible extraction types, e.g. \"monetary values\", \"time periods\"\n",
    "2. Provides non-implemented functions for each extraction type\n",
    "   - Time period extraction\n",
    "   - Monetary value extraction\n",
    "\n",
    "You don't need to implement the extraction logic, but should ideate possible strategies for implementation for both functions."
   ]
  },
  {
   "cell_type": "code",
   "execution_count": null,
   "id": "a383c1f6",
   "metadata": {},
   "outputs": [],
   "source": [
    "# YOUR CODE HERE\n",
    "# Draft the InformationExtractor class\n",
    "\n",
    "# Sample text\n",
    "sample_text = \"\"\"This Agreement may be terminated by either Party upon thirty (30) days written notice to the other Party.\n",
    "Late payments shall incur interest at the rate of 1.5% per month or the maximum rate permitted by law, whichever is less.\n",
    "The initial payment of $5,000 shall be due within 14 business days of the effective date.\"\"\"\n",
    "\n"
   ]
  }
 ],
 "metadata": {
  "kernelspec": {
   "display_name": "Python 3",
   "language": "python",
   "name": "python3"
  },
  "language_info": {
   "name": "python",
   "version": "3.11.9"
  }
 },
 "nbformat": 4,
 "nbformat_minor": 5
}
