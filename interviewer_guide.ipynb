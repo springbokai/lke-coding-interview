{
 "cells": [
  {
   "cell_type": "markdown",
   "id": "ecd9505f",
   "metadata": {},
   "source": [
    "# Solution Guidance for Interviewers\n",
    "\n",
    "This notebook contains guidance notes for evaluating candidate submissions. It outlines what to look for in each section and provides some sample solutions.\n",
    "\n",
    "## Overall Assessment Criteria\n",
    "\n",
    "When evaluating candidates, consider the following:\n",
    "\n",
    "1. **Code Quality**: Is the code clean, well-structured, and properly commented?\n",
    "2. **Technical Accuracy**: Are the methods implemented correctly?\n",
    "3. **Analytical Thinking**: Does the candidate show good understanding of the problem and data?\n",
    "4. **Visualization Skills**: Are the visualizations clear, appropriate, and insightful?\n",
    "5. **Machine Learning Knowledge**: Is there evidence of understanding model selection, training, and evaluation?\n",
    "6. **Business Acumen**: Can the candidate connect technical findings to business recommendations?"
   ]
  },
  {
   "cell_type": "markdown",
   "id": "35b680e3",
   "metadata": {},
   "source": [
    "## Task 1: Basic Data Exploration\n",
    "\n",
    "### Look for:\n",
    "- Correctly checking shape using `df.shape`\n",
    "- Displaying column info using `df.info()` or `df.dtypes`\n",
    "- Using `df.describe()` for numeric statistics\n",
    "- Checking missing values with `df.isnull().sum()` \n",
    "- Checking unique values appropriately"
   ]
  },
  {
   "cell_type": "markdown",
   "id": "044e6023",
   "metadata": {},
   "source": [
    "## Task 2: Data Cleaning\n",
    "\n",
    "### Look for:\n",
    "- Proper handling of missing values (especially in TotalCharges)\n",
    "- Converting TotalCharges to numeric\n",
    "- Appropriate handling of categorical variables\n",
    "- Logical approach to outlier detection (if any)"
   ]
  },
  {
   "cell_type": "markdown",
   "id": "e14eadb8",
   "metadata": {},
   "source": [
    "## Task 3: EDA and Visualization\n",
    "\n",
    "### Look for:\n",
    "- Clear visualization of churn distribution (pie chart or bar plot)\n",
    "- Appropriate visualization for service correlations\n",
    "- Meaningful tenure analysis (histogram, boxplot by churn)\n",
    "- Distribution of monthly charges with relation to churn\n",
    "- At least one insightful multi-variable visualization"
   ]
  },
  {
   "cell_type": "markdown",
   "id": "4f5a6b0c",
   "metadata": {},
   "source": [
    "## Task 4: Feature Engineering\n",
    "\n",
    "### Look for:\n",
    "- Proper encoding of categorical variables (OneHotEncoder, LabelEncoder, etc.)\n",
    "- Creation of at least one meaningful new feature\n",
    "- Appropriate scaling of numeric features\n",
    "- Logical feature selection/elimination\n",
    "- Clear separation of features (X) and target (y)"
   ]
  },
  {
   "cell_type": "markdown",
   "id": "63bf4307",
   "metadata": {},
   "source": [
    "## Task 5: Model Building\n",
    "\n",
    "### Look for:\n",
    "- Proper train-test split (usually 70-30 or 80-20)\n",
    "- Implementation of at least two different models\n",
    "- Hyperparameter tuning using cross-validation\n",
    "- Making predictions on the test set\n",
    "- Comparison of models using appropriate metrics"
   ]
  },
  {
   "cell_type": "markdown",
   "id": "8a5e2328",
   "metadata": {},
   "source": [
    "## Task 6: Model Evaluation\n",
    "\n",
    "### Look for:\n",
    "- Well-visualized confusion matrix\n",
    "- Calculation and interpretation of precision, recall, F1, etc.\n",
    "- ROC curve visualization and AUC calculation\n",
    "- Feature importance analysis\n",
    "- Business-oriented interpretation of results"
   ]
  },
  {
   "cell_type": "markdown",
   "id": "611febea",
   "metadata": {},
   "source": [
    "## Task 7: Summary and Recommendations\n",
    "\n",
    "### Look for:\n",
    "- Clear summary of approach\n",
    "- Meaningful insights from analysis\n",
    "- Accurate model performance summary\n",
    "- Actionable business recommendations\n",
    "- Thoughtful next steps or further analyses"
   ]
  },
  {
   "cell_type": "markdown",
   "id": "e94fd332",
   "metadata": {},
   "source": [
    "## Overall Scoring Guidelines\n",
    "\n",
    "Consider using a scoring system like:\n",
    "\n",
    "- **Excellent (5)**: Complete, correct implementation with additional insights\n",
    "- **Very Good (4)**: Complete and correct implementation\n",
    "- **Good (3)**: Mostly correct with minor issues\n",
    "- **Fair (2)**: Partially correct with significant issues\n",
    "- **Poor (1)**: Major conceptual or implementation errors\n",
    "- **Not Attempted (0)**: Section not completed\n",
    "\n",
    "Total score out of 35 points (7 sections × 5 points max)"
   ]
  }
 ],
 "metadata": {
  "language_info": {
   "name": "python"
  }
 },
 "nbformat": 4,
 "nbformat_minor": 5
}
